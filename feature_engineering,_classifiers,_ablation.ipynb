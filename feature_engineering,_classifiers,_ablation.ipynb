{
  "cells": [
    {
      "cell_type": "code",
      "execution_count": 2,
      "metadata": {
        "colab": {
          "base_uri": "https://localhost:8080/",
          "height": 273
        },
        "id": "X3bmxBCbV9Ey",
        "outputId": "a3622c96-e0ee-4874-b0da-82e10655e563"
      },
      "outputs": [
        {
          "name": "stdout",
          "output_type": "stream",
          "text": [
            "Shape of data (284807, 31)\n"
          ]
        },
        {
          "data": {
            "text/html": [
              "<div>\n",
              "<style scoped>\n",
              "    .dataframe tbody tr th:only-of-type {\n",
              "        vertical-align: middle;\n",
              "    }\n",
              "\n",
              "    .dataframe tbody tr th {\n",
              "        vertical-align: top;\n",
              "    }\n",
              "\n",
              "    .dataframe thead th {\n",
              "        text-align: right;\n",
              "    }\n",
              "</style>\n",
              "<table border=\"1\" class=\"dataframe\">\n",
              "  <thead>\n",
              "    <tr style=\"text-align: right;\">\n",
              "      <th></th>\n",
              "      <th>Time</th>\n",
              "      <th>V1</th>\n",
              "      <th>V2</th>\n",
              "      <th>V3</th>\n",
              "      <th>V4</th>\n",
              "      <th>V5</th>\n",
              "      <th>V6</th>\n",
              "      <th>V7</th>\n",
              "      <th>V8</th>\n",
              "      <th>V9</th>\n",
              "      <th>...</th>\n",
              "      <th>V21</th>\n",
              "      <th>V22</th>\n",
              "      <th>V23</th>\n",
              "      <th>V24</th>\n",
              "      <th>V25</th>\n",
              "      <th>V26</th>\n",
              "      <th>V27</th>\n",
              "      <th>V28</th>\n",
              "      <th>Amount</th>\n",
              "      <th>Class</th>\n",
              "    </tr>\n",
              "  </thead>\n",
              "  <tbody>\n",
              "    <tr>\n",
              "      <th>0</th>\n",
              "      <td>0.0</td>\n",
              "      <td>-1.359807</td>\n",
              "      <td>-0.072781</td>\n",
              "      <td>2.536347</td>\n",
              "      <td>1.378155</td>\n",
              "      <td>-0.338321</td>\n",
              "      <td>0.462388</td>\n",
              "      <td>0.239599</td>\n",
              "      <td>0.098698</td>\n",
              "      <td>0.363787</td>\n",
              "      <td>...</td>\n",
              "      <td>-0.018307</td>\n",
              "      <td>0.277838</td>\n",
              "      <td>-0.110474</td>\n",
              "      <td>0.066928</td>\n",
              "      <td>0.128539</td>\n",
              "      <td>-0.189115</td>\n",
              "      <td>0.133558</td>\n",
              "      <td>-0.021053</td>\n",
              "      <td>149.62</td>\n",
              "      <td>0</td>\n",
              "    </tr>\n",
              "    <tr>\n",
              "      <th>1</th>\n",
              "      <td>0.0</td>\n",
              "      <td>1.191857</td>\n",
              "      <td>0.266151</td>\n",
              "      <td>0.166480</td>\n",
              "      <td>0.448154</td>\n",
              "      <td>0.060018</td>\n",
              "      <td>-0.082361</td>\n",
              "      <td>-0.078803</td>\n",
              "      <td>0.085102</td>\n",
              "      <td>-0.255425</td>\n",
              "      <td>...</td>\n",
              "      <td>-0.225775</td>\n",
              "      <td>-0.638672</td>\n",
              "      <td>0.101288</td>\n",
              "      <td>-0.339846</td>\n",
              "      <td>0.167170</td>\n",
              "      <td>0.125895</td>\n",
              "      <td>-0.008983</td>\n",
              "      <td>0.014724</td>\n",
              "      <td>2.69</td>\n",
              "      <td>0</td>\n",
              "    </tr>\n",
              "    <tr>\n",
              "      <th>2</th>\n",
              "      <td>1.0</td>\n",
              "      <td>-1.358354</td>\n",
              "      <td>-1.340163</td>\n",
              "      <td>1.773209</td>\n",
              "      <td>0.379780</td>\n",
              "      <td>-0.503198</td>\n",
              "      <td>1.800499</td>\n",
              "      <td>0.791461</td>\n",
              "      <td>0.247676</td>\n",
              "      <td>-1.514654</td>\n",
              "      <td>...</td>\n",
              "      <td>0.247998</td>\n",
              "      <td>0.771679</td>\n",
              "      <td>0.909412</td>\n",
              "      <td>-0.689281</td>\n",
              "      <td>-0.327642</td>\n",
              "      <td>-0.139097</td>\n",
              "      <td>-0.055353</td>\n",
              "      <td>-0.059752</td>\n",
              "      <td>378.66</td>\n",
              "      <td>0</td>\n",
              "    </tr>\n",
              "    <tr>\n",
              "      <th>3</th>\n",
              "      <td>1.0</td>\n",
              "      <td>-0.966272</td>\n",
              "      <td>-0.185226</td>\n",
              "      <td>1.792993</td>\n",
              "      <td>-0.863291</td>\n",
              "      <td>-0.010309</td>\n",
              "      <td>1.247203</td>\n",
              "      <td>0.237609</td>\n",
              "      <td>0.377436</td>\n",
              "      <td>-1.387024</td>\n",
              "      <td>...</td>\n",
              "      <td>-0.108300</td>\n",
              "      <td>0.005274</td>\n",
              "      <td>-0.190321</td>\n",
              "      <td>-1.175575</td>\n",
              "      <td>0.647376</td>\n",
              "      <td>-0.221929</td>\n",
              "      <td>0.062723</td>\n",
              "      <td>0.061458</td>\n",
              "      <td>123.50</td>\n",
              "      <td>0</td>\n",
              "    </tr>\n",
              "    <tr>\n",
              "      <th>4</th>\n",
              "      <td>2.0</td>\n",
              "      <td>-1.158233</td>\n",
              "      <td>0.877737</td>\n",
              "      <td>1.548718</td>\n",
              "      <td>0.403034</td>\n",
              "      <td>-0.407193</td>\n",
              "      <td>0.095921</td>\n",
              "      <td>0.592941</td>\n",
              "      <td>-0.270533</td>\n",
              "      <td>0.817739</td>\n",
              "      <td>...</td>\n",
              "      <td>-0.009431</td>\n",
              "      <td>0.798278</td>\n",
              "      <td>-0.137458</td>\n",
              "      <td>0.141267</td>\n",
              "      <td>-0.206010</td>\n",
              "      <td>0.502292</td>\n",
              "      <td>0.219422</td>\n",
              "      <td>0.215153</td>\n",
              "      <td>69.99</td>\n",
              "      <td>0</td>\n",
              "    </tr>\n",
              "  </tbody>\n",
              "</table>\n",
              "<p>5 rows × 31 columns</p>\n",
              "</div>"
            ],
            "text/plain": [
              "   Time        V1        V2        V3        V4        V5        V6        V7  \\\n",
              "0   0.0 -1.359807 -0.072781  2.536347  1.378155 -0.338321  0.462388  0.239599   \n",
              "1   0.0  1.191857  0.266151  0.166480  0.448154  0.060018 -0.082361 -0.078803   \n",
              "2   1.0 -1.358354 -1.340163  1.773209  0.379780 -0.503198  1.800499  0.791461   \n",
              "3   1.0 -0.966272 -0.185226  1.792993 -0.863291 -0.010309  1.247203  0.237609   \n",
              "4   2.0 -1.158233  0.877737  1.548718  0.403034 -0.407193  0.095921  0.592941   \n",
              "\n",
              "         V8        V9  ...       V21       V22       V23       V24       V25  \\\n",
              "0  0.098698  0.363787  ... -0.018307  0.277838 -0.110474  0.066928  0.128539   \n",
              "1  0.085102 -0.255425  ... -0.225775 -0.638672  0.101288 -0.339846  0.167170   \n",
              "2  0.247676 -1.514654  ...  0.247998  0.771679  0.909412 -0.689281 -0.327642   \n",
              "3  0.377436 -1.387024  ... -0.108300  0.005274 -0.190321 -1.175575  0.647376   \n",
              "4 -0.270533  0.817739  ... -0.009431  0.798278 -0.137458  0.141267 -0.206010   \n",
              "\n",
              "        V26       V27       V28  Amount  Class  \n",
              "0 -0.189115  0.133558 -0.021053  149.62      0  \n",
              "1  0.125895 -0.008983  0.014724    2.69      0  \n",
              "2 -0.139097 -0.055353 -0.059752  378.66      0  \n",
              "3 -0.221929  0.062723  0.061458  123.50      0  \n",
              "4  0.502292  0.219422  0.215153   69.99      0  \n",
              "\n",
              "[5 rows x 31 columns]"
            ]
          },
          "execution_count": 2,
          "metadata": {},
          "output_type": "execute_result"
        }
      ],
      "source": [
        "from IPython.core.interactiveshell import InteractiveShell\n",
        "InteractiveShell.ast_node_interactivity = \"all\"\n",
        "\n",
        "import pandas as pd\n",
        "main_df = pd.read_csv(r'creditcard.csv')\n",
        "\n",
        "#main_df = main_df.drop_duplicates()\n",
        "#main_df = main_df.dropna()\n",
        "print (f\"Shape of data {main_df.shape}\")\n",
        "main_df.head()"
      ]
    },
    {
      "cell_type": "code",
      "execution_count": 21,
      "metadata": {
        "colab": {
          "base_uri": "https://localhost:8080/"
        },
        "id": "l1ErqJnolJMQ",
        "outputId": "6d54fa73-7122-458d-e27c-cb258e690fe1"
      },
      "outputs": [
        {
          "ename": "AttributeError",
          "evalue": "module 'matplotlib' has no attribute 'get_data_path'",
          "output_type": "error",
          "traceback": [
            "\u001b[0;31m---------------------------------------------------------------------------\u001b[0m",
            "\u001b[0;31mAttributeError\u001b[0m                            Traceback (most recent call last)",
            "\u001b[0;32m/var/folders/_l/t31rqf057m3fwrzq7xxzmxj40000gp/T/ipykernel_815/3476419907.py\u001b[0m in \u001b[0;36m<module>\u001b[0;34m\u001b[0m\n\u001b[0;32m----> 1\u001b[0;31m \u001b[0;32mfrom\u001b[0m \u001b[0mdataprep\u001b[0m\u001b[0;34m.\u001b[0m\u001b[0meda\u001b[0m \u001b[0;32mimport\u001b[0m \u001b[0mcreate_report\u001b[0m\u001b[0;34m\u001b[0m\u001b[0;34m\u001b[0m\u001b[0m\n\u001b[0m\u001b[1;32m      2\u001b[0m \u001b[0mreport\u001b[0m \u001b[0;34m=\u001b[0m \u001b[0mcreate_report\u001b[0m\u001b[0;34m(\u001b[0m\u001b[0mmain_df\u001b[0m\u001b[0;34m)\u001b[0m\u001b[0;34m\u001b[0m\u001b[0;34m\u001b[0m\u001b[0m\n\u001b[1;32m      3\u001b[0m \u001b[0mreport\u001b[0m\u001b[0;34m.\u001b[0m\u001b[0mshow_browser\u001b[0m\u001b[0;34m(\u001b[0m\u001b[0;34m)\u001b[0m\u001b[0;34m\u001b[0m\u001b[0;34m\u001b[0m\u001b[0m\n",
            "\u001b[0;32m~/opt/anaconda3/lib/python3.9/site-packages/dataprep/eda/__init__.py\u001b[0m in \u001b[0;36m<module>\u001b[0;34m\u001b[0m\n\u001b[1;32m      7\u001b[0m \u001b[0;32mfrom\u001b[0m \u001b[0;34m.\u001b[0m\u001b[0;34m.\u001b[0m\u001b[0mutils\u001b[0m \u001b[0;32mimport\u001b[0m \u001b[0mis_notebook\u001b[0m\u001b[0;34m\u001b[0m\u001b[0;34m\u001b[0m\u001b[0m\n\u001b[1;32m      8\u001b[0m \u001b[0;32mfrom\u001b[0m \u001b[0;34m.\u001b[0m\u001b[0mcorrelation\u001b[0m \u001b[0;32mimport\u001b[0m \u001b[0mcompute_correlation\u001b[0m\u001b[0;34m,\u001b[0m \u001b[0mplot_correlation\u001b[0m\u001b[0;34m,\u001b[0m \u001b[0mrender_correlation\u001b[0m\u001b[0;34m\u001b[0m\u001b[0;34m\u001b[0m\u001b[0m\n\u001b[0;32m----> 9\u001b[0;31m \u001b[0;32mfrom\u001b[0m \u001b[0;34m.\u001b[0m\u001b[0mcreate_report\u001b[0m \u001b[0;32mimport\u001b[0m \u001b[0mcreate_report\u001b[0m\u001b[0;34m\u001b[0m\u001b[0;34m\u001b[0m\u001b[0m\n\u001b[0m\u001b[1;32m     10\u001b[0m \u001b[0;32mfrom\u001b[0m \u001b[0;34m.\u001b[0m\u001b[0mcreate_db_report\u001b[0m \u001b[0;32mimport\u001b[0m \u001b[0mcreate_db_report\u001b[0m\u001b[0;34m\u001b[0m\u001b[0;34m\u001b[0m\u001b[0m\n\u001b[1;32m     11\u001b[0m \u001b[0;32mfrom\u001b[0m \u001b[0;34m.\u001b[0m\u001b[0mcreate_diff_report\u001b[0m \u001b[0;32mimport\u001b[0m \u001b[0mcreate_diff_report\u001b[0m\u001b[0;34m\u001b[0m\u001b[0;34m\u001b[0m\u001b[0m\n",
            "\u001b[0;32m~/opt/anaconda3/lib/python3.9/site-packages/dataprep/eda/create_report/__init__.py\u001b[0m in \u001b[0;36m<module>\u001b[0;34m\u001b[0m\n\u001b[1;32m     10\u001b[0m \u001b[0;34m\u001b[0m\u001b[0m\n\u001b[1;32m     11\u001b[0m \u001b[0;32mfrom\u001b[0m \u001b[0;34m.\u001b[0m\u001b[0;34m.\u001b[0m\u001b[0mconfigs\u001b[0m \u001b[0;32mimport\u001b[0m \u001b[0mConfig\u001b[0m\u001b[0;34m\u001b[0m\u001b[0;34m\u001b[0m\u001b[0m\n\u001b[0;32m---> 12\u001b[0;31m \u001b[0;32mfrom\u001b[0m \u001b[0;34m.\u001b[0m\u001b[0mformatter\u001b[0m \u001b[0;32mimport\u001b[0m \u001b[0mformat_report\u001b[0m\u001b[0;34m\u001b[0m\u001b[0;34m\u001b[0m\u001b[0m\n\u001b[0m\u001b[1;32m     13\u001b[0m \u001b[0;32mfrom\u001b[0m \u001b[0;34m.\u001b[0m\u001b[0mreport\u001b[0m \u001b[0;32mimport\u001b[0m \u001b[0mReport\u001b[0m\u001b[0;34m\u001b[0m\u001b[0;34m\u001b[0m\u001b[0m\n\u001b[1;32m     14\u001b[0m \u001b[0;34m\u001b[0m\u001b[0m\n",
            "\u001b[0;32m~/opt/anaconda3/lib/python3.9/site-packages/dataprep/eda/create_report/formatter.py\u001b[0m in \u001b[0;36m<module>\u001b[0;34m\u001b[0m\n\u001b[1;32m     14\u001b[0m \u001b[0;32mfrom\u001b[0m \u001b[0;34m.\u001b[0m\u001b[0;34m.\u001b[0m\u001b[0mcorrelation\u001b[0m \u001b[0;32mimport\u001b[0m \u001b[0mrender_correlation\u001b[0m\u001b[0;34m\u001b[0m\u001b[0;34m\u001b[0m\u001b[0m\n\u001b[1;32m     15\u001b[0m \u001b[0;32mfrom\u001b[0m \u001b[0;34m.\u001b[0m\u001b[0;34m.\u001b[0m\u001b[0mcorrelation\u001b[0m\u001b[0;34m.\u001b[0m\u001b[0mcompute\u001b[0m\u001b[0;34m.\u001b[0m\u001b[0moverview\u001b[0m \u001b[0;32mimport\u001b[0m \u001b[0mcorrelation_nxn\u001b[0m\u001b[0;34m\u001b[0m\u001b[0;34m\u001b[0m\u001b[0m\n\u001b[0;32m---> 16\u001b[0;31m \u001b[0;32mfrom\u001b[0m \u001b[0;34m.\u001b[0m\u001b[0;34m.\u001b[0m\u001b[0mdistribution\u001b[0m \u001b[0;32mimport\u001b[0m \u001b[0mcompute\u001b[0m\u001b[0;34m,\u001b[0m \u001b[0mrender\u001b[0m\u001b[0;34m\u001b[0m\u001b[0;34m\u001b[0m\u001b[0m\n\u001b[0m\u001b[1;32m     17\u001b[0m \u001b[0;32mfrom\u001b[0m \u001b[0;34m.\u001b[0m\u001b[0;34m.\u001b[0m\u001b[0mutils\u001b[0m \u001b[0;32mimport\u001b[0m \u001b[0m_calc_line_dt\u001b[0m\u001b[0;34m\u001b[0m\u001b[0;34m\u001b[0m\u001b[0m\n\u001b[1;32m     18\u001b[0m \u001b[0;32mfrom\u001b[0m \u001b[0;34m.\u001b[0m\u001b[0;34m.\u001b[0m\u001b[0mdistribution\u001b[0m\u001b[0;34m.\u001b[0m\u001b[0mcompute\u001b[0m\u001b[0;34m.\u001b[0m\u001b[0moverview\u001b[0m \u001b[0;32mimport\u001b[0m \u001b[0mcalc_stats\u001b[0m\u001b[0;34m\u001b[0m\u001b[0;34m\u001b[0m\u001b[0m\n",
            "\u001b[0;32m~/opt/anaconda3/lib/python3.9/site-packages/dataprep/eda/distribution/__init__.py\u001b[0m in \u001b[0;36m<module>\u001b[0;34m\u001b[0m\n\u001b[1;32m     13\u001b[0m \u001b[0;32mfrom\u001b[0m \u001b[0;34m...\u001b[0m\u001b[0mprogress_bar\u001b[0m \u001b[0;32mimport\u001b[0m \u001b[0mProgressBar\u001b[0m\u001b[0;34m\u001b[0m\u001b[0;34m\u001b[0m\u001b[0m\n\u001b[1;32m     14\u001b[0m \u001b[0;32mfrom\u001b[0m \u001b[0;34m.\u001b[0m\u001b[0mcompute\u001b[0m \u001b[0;32mimport\u001b[0m \u001b[0mcompute\u001b[0m\u001b[0;34m\u001b[0m\u001b[0;34m\u001b[0m\u001b[0m\n\u001b[0;32m---> 15\u001b[0;31m \u001b[0;32mfrom\u001b[0m \u001b[0;34m.\u001b[0m\u001b[0mrender\u001b[0m \u001b[0;32mimport\u001b[0m \u001b[0mrender\u001b[0m\u001b[0;34m\u001b[0m\u001b[0;34m\u001b[0m\u001b[0m\n\u001b[0m\u001b[1;32m     16\u001b[0m \u001b[0;34m\u001b[0m\u001b[0m\n\u001b[1;32m     17\u001b[0m \u001b[0m__all__\u001b[0m \u001b[0;34m=\u001b[0m \u001b[0;34m[\u001b[0m\u001b[0;34m\"plot\"\u001b[0m\u001b[0;34m,\u001b[0m \u001b[0;34m\"compute\"\u001b[0m\u001b[0;34m,\u001b[0m \u001b[0;34m\"render\"\u001b[0m\u001b[0;34m]\u001b[0m\u001b[0;34m\u001b[0m\u001b[0;34m\u001b[0m\u001b[0m\n",
            "\u001b[0;32m~/opt/anaconda3/lib/python3.9/site-packages/dataprep/eda/distribution/render.py\u001b[0m in \u001b[0;36m<module>\u001b[0;34m\u001b[0m\n\u001b[1;32m     31\u001b[0m \u001b[0;32mfrom\u001b[0m \u001b[0mbokeh\u001b[0m\u001b[0;34m.\u001b[0m\u001b[0mutil\u001b[0m\u001b[0;34m.\u001b[0m\u001b[0mhex\u001b[0m \u001b[0;32mimport\u001b[0m \u001b[0mhexbin\u001b[0m\u001b[0;34m\u001b[0m\u001b[0;34m\u001b[0m\u001b[0m\n\u001b[1;32m     32\u001b[0m \u001b[0;32mfrom\u001b[0m \u001b[0mscipy\u001b[0m\u001b[0;34m.\u001b[0m\u001b[0mstats\u001b[0m \u001b[0;32mimport\u001b[0m \u001b[0mnorm\u001b[0m\u001b[0;34m\u001b[0m\u001b[0;34m\u001b[0m\u001b[0m\n\u001b[0;32m---> 33\u001b[0;31m \u001b[0;32mfrom\u001b[0m \u001b[0mwordcloud\u001b[0m \u001b[0;32mimport\u001b[0m \u001b[0mWordCloud\u001b[0m\u001b[0;34m\u001b[0m\u001b[0;34m\u001b[0m\u001b[0m\n\u001b[0m\u001b[1;32m     34\u001b[0m \u001b[0;34m\u001b[0m\u001b[0m\n\u001b[1;32m     35\u001b[0m \u001b[0;32mfrom\u001b[0m \u001b[0;34m.\u001b[0m\u001b[0;34m.\u001b[0m\u001b[0mconfigs\u001b[0m \u001b[0;32mimport\u001b[0m \u001b[0mKDE\u001b[0m\u001b[0;34m,\u001b[0m \u001b[0mBar\u001b[0m\u001b[0;34m,\u001b[0m \u001b[0mBox\u001b[0m\u001b[0;34m,\u001b[0m \u001b[0mConfig\u001b[0m\u001b[0;34m,\u001b[0m \u001b[0mPie\u001b[0m\u001b[0;34m,\u001b[0m \u001b[0mQQNorm\u001b[0m\u001b[0;34m,\u001b[0m \u001b[0mWordFrequency\u001b[0m\u001b[0;34m\u001b[0m\u001b[0;34m\u001b[0m\u001b[0m\n",
            "\u001b[0;32m~/opt/anaconda3/lib/python3.9/site-packages/wordcloud/__init__.py\u001b[0m in \u001b[0;36m<module>\u001b[0;34m\u001b[0m\n\u001b[0;32m----> 1\u001b[0;31m from .wordcloud import (WordCloud, STOPWORDS, random_color_func,\n\u001b[0m\u001b[1;32m      2\u001b[0m                         get_single_color_func)\n\u001b[1;32m      3\u001b[0m \u001b[0;32mfrom\u001b[0m \u001b[0;34m.\u001b[0m\u001b[0mcolor_from_image\u001b[0m \u001b[0;32mimport\u001b[0m \u001b[0mImageColorGenerator\u001b[0m\u001b[0;34m\u001b[0m\u001b[0;34m\u001b[0m\u001b[0m\n\u001b[1;32m      4\u001b[0m \u001b[0;34m\u001b[0m\u001b[0m\n\u001b[1;32m      5\u001b[0m __all__ = ['WordCloud', 'STOPWORDS', 'random_color_func',\n",
            "\u001b[0;32m~/opt/anaconda3/lib/python3.9/site-packages/wordcloud/wordcloud.py\u001b[0m in \u001b[0;36m<module>\u001b[0;34m\u001b[0m\n\u001b[1;32m     17\u001b[0m \u001b[0;32mimport\u001b[0m \u001b[0msys\u001b[0m\u001b[0;34m\u001b[0m\u001b[0;34m\u001b[0m\u001b[0m\n\u001b[1;32m     18\u001b[0m \u001b[0;32mimport\u001b[0m \u001b[0mcolorsys\u001b[0m\u001b[0;34m\u001b[0m\u001b[0;34m\u001b[0m\u001b[0m\n\u001b[0;32m---> 19\u001b[0;31m \u001b[0;32mimport\u001b[0m \u001b[0mmatplotlib\u001b[0m\u001b[0;34m\u001b[0m\u001b[0;34m\u001b[0m\u001b[0m\n\u001b[0m\u001b[1;32m     20\u001b[0m \u001b[0;32mimport\u001b[0m \u001b[0mnumpy\u001b[0m \u001b[0;32mas\u001b[0m \u001b[0mnp\u001b[0m\u001b[0;34m\u001b[0m\u001b[0;34m\u001b[0m\u001b[0m\n\u001b[1;32m     21\u001b[0m \u001b[0;32mfrom\u001b[0m \u001b[0moperator\u001b[0m \u001b[0;32mimport\u001b[0m \u001b[0mitemgetter\u001b[0m\u001b[0;34m\u001b[0m\u001b[0;34m\u001b[0m\u001b[0m\n",
            "\u001b[0;32m~/opt/anaconda3/lib/python3.9/site-packages/matplotlib/__init__.py\u001b[0m in \u001b[0;36m<module>\u001b[0;34m\u001b[0m\n\u001b[1;32m    962\u001b[0m \u001b[0;31m# triggering resolution of _auto_backend_sentinel.\u001b[0m\u001b[0;34m\u001b[0m\u001b[0;34m\u001b[0m\u001b[0m\n\u001b[1;32m    963\u001b[0m rcParamsDefault = _rc_params_in_file(\n\u001b[0;32m--> 964\u001b[0;31m     \u001b[0mcbook\u001b[0m\u001b[0;34m.\u001b[0m\u001b[0m_get_data_path\u001b[0m\u001b[0;34m(\u001b[0m\u001b[0;34m\"matplotlibrc\"\u001b[0m\u001b[0;34m)\u001b[0m\u001b[0;34m,\u001b[0m\u001b[0;34m\u001b[0m\u001b[0;34m\u001b[0m\u001b[0m\n\u001b[0m\u001b[1;32m    965\u001b[0m     \u001b[0;31m# Strip leading comment.\u001b[0m\u001b[0;34m\u001b[0m\u001b[0;34m\u001b[0m\u001b[0m\n\u001b[1;32m    966\u001b[0m     \u001b[0mtransform\u001b[0m\u001b[0;34m=\u001b[0m\u001b[0;32mlambda\u001b[0m \u001b[0mline\u001b[0m\u001b[0;34m:\u001b[0m \u001b[0mline\u001b[0m\u001b[0;34m[\u001b[0m\u001b[0;36m1\u001b[0m\u001b[0;34m:\u001b[0m\u001b[0;34m]\u001b[0m \u001b[0;32mif\u001b[0m \u001b[0mline\u001b[0m\u001b[0;34m.\u001b[0m\u001b[0mstartswith\u001b[0m\u001b[0;34m(\u001b[0m\u001b[0;34m\"#\"\u001b[0m\u001b[0;34m)\u001b[0m \u001b[0;32melse\u001b[0m \u001b[0mline\u001b[0m\u001b[0;34m,\u001b[0m\u001b[0;34m\u001b[0m\u001b[0;34m\u001b[0m\u001b[0m\n",
            "\u001b[0;32m~/opt/anaconda3/lib/python3.9/site-packages/matplotlib/cbook/__init__.py\u001b[0m in \u001b[0;36m_get_data_path\u001b[0;34m(*args)\u001b[0m\n",
            "\u001b[0;31mAttributeError\u001b[0m: module 'matplotlib' has no attribute 'get_data_path'"
          ]
        }
      ],
      "source": [
        "from dataprep.eda import create_report\n",
        "report = create_report(main_df)\n",
        "report.show_browser()"
      ]
    },
    {
      "cell_type": "code",
      "execution_count": 23,
      "metadata": {
        "colab": {
          "base_uri": "https://localhost:8080/"
        },
        "id": "uZSG1iYeVA-v",
        "outputId": "226914b9-0fb3-427c-82ba-a24e0969d79f"
      },
      "outputs": [
        {
          "name": "stdout",
          "output_type": "stream",
          "text": [
            "(492, 31)\n",
            "(492, 31)\n",
            "50.0\n",
            "50.0\n"
          ]
        }
      ],
      "source": [
        "feature_to_split = 'Class'\n",
        "\n",
        "# Split the DataFrame into two based on the specified feature\n",
        "real = main_df[main_df[feature_to_split] == 0]\n",
        "fraud = main_df[main_df[feature_to_split] == 1]\n",
        "print(real.shape)\n",
        "print(fraud.shape)\n",
        "\n",
        "# Calculate the percentage of total DataFrame for df_1\n",
        "percentage_df_1 = (len(real) / len(main_df)) * 100\n",
        "print(percentage_df_1)\n",
        "\n",
        "# Calculate the percentage of total DataFrame for df_2\n",
        "percentage_df_2 = (len(fraud) / len(main_df)) * 100\n",
        "print(percentage_df_2)"
      ]
    },
    {
      "cell_type": "markdown",
      "metadata": {
        "id": "MsIW8aHIjUz7"
      },
      "source": [
        "Here, we split the dataframe into two subsets of fraud and real transactions. By looking at the size, we can see that the dataset is highly imbalanced. Only 492, or 0.17% of the whole dataset, is fraud,."
      ]
    },
    {
      "cell_type": "code",
      "execution_count": 12,
      "metadata": {
        "colab": {
          "base_uri": "https://localhost:8080/",
          "height": 1000
        },
        "id": "xdvp4yHPbJai",
        "outputId": "2256afd6-0ac8-4eda-967d-01cf6f96f9d6"
      },
      "outputs": [
        {
          "ename": "AttributeError",
          "evalue": "module 'matplotlib' has no attribute 'get_data_path'",
          "output_type": "error",
          "traceback": [
            "\u001b[0;31m---------------------------------------------------------------------------\u001b[0m",
            "\u001b[0;31mAttributeError\u001b[0m                            Traceback (most recent call last)",
            "\u001b[0;32m/var/folders/_l/t31rqf057m3fwrzq7xxzmxj40000gp/T/ipykernel_815/454849293.py\u001b[0m in \u001b[0;36m<module>\u001b[0;34m\u001b[0m\n\u001b[1;32m      1\u001b[0m \u001b[0;32mimport\u001b[0m \u001b[0mpandas\u001b[0m \u001b[0;32mas\u001b[0m \u001b[0mpd\u001b[0m\u001b[0;34m\u001b[0m\u001b[0;34m\u001b[0m\u001b[0m\n\u001b[0;32m----> 2\u001b[0;31m \u001b[0;32mimport\u001b[0m \u001b[0mmatplotlib\u001b[0m\u001b[0;34m.\u001b[0m\u001b[0mpyplot\u001b[0m \u001b[0;32mas\u001b[0m \u001b[0mplt\u001b[0m\u001b[0;34m\u001b[0m\u001b[0;34m\u001b[0m\u001b[0m\n\u001b[0m\u001b[1;32m      3\u001b[0m \u001b[0;34m\u001b[0m\u001b[0m\n\u001b[1;32m      4\u001b[0m \u001b[0mfraud\u001b[0m\u001b[0;34m.\u001b[0m\u001b[0mhist\u001b[0m\u001b[0;34m(\u001b[0m\u001b[0mfigsize\u001b[0m \u001b[0;34m=\u001b[0m \u001b[0;34m(\u001b[0m\u001b[0;36m20\u001b[0m\u001b[0;34m,\u001b[0m \u001b[0;36m20\u001b[0m\u001b[0;34m)\u001b[0m\u001b[0;34m)\u001b[0m\u001b[0;34m\u001b[0m\u001b[0;34m\u001b[0m\u001b[0m\n\u001b[1;32m      5\u001b[0m \u001b[0mplt\u001b[0m\u001b[0;34m.\u001b[0m\u001b[0mshow\u001b[0m\u001b[0;34m(\u001b[0m\u001b[0;34m)\u001b[0m\u001b[0;34m\u001b[0m\u001b[0;34m\u001b[0m\u001b[0m\n",
            "\u001b[0;32m~/opt/anaconda3/lib/python3.9/site-packages/matplotlib/__init__.py\u001b[0m in \u001b[0;36m<module>\u001b[0;34m\u001b[0m\n\u001b[1;32m    962\u001b[0m \u001b[0;31m# triggering resolution of _auto_backend_sentinel.\u001b[0m\u001b[0;34m\u001b[0m\u001b[0;34m\u001b[0m\u001b[0m\n\u001b[1;32m    963\u001b[0m rcParamsDefault = _rc_params_in_file(\n\u001b[0;32m--> 964\u001b[0;31m     \u001b[0mcbook\u001b[0m\u001b[0;34m.\u001b[0m\u001b[0m_get_data_path\u001b[0m\u001b[0;34m(\u001b[0m\u001b[0;34m\"matplotlibrc\"\u001b[0m\u001b[0;34m)\u001b[0m\u001b[0;34m,\u001b[0m\u001b[0;34m\u001b[0m\u001b[0;34m\u001b[0m\u001b[0m\n\u001b[0m\u001b[1;32m    965\u001b[0m     \u001b[0;31m# Strip leading comment.\u001b[0m\u001b[0;34m\u001b[0m\u001b[0;34m\u001b[0m\u001b[0m\n\u001b[1;32m    966\u001b[0m     \u001b[0mtransform\u001b[0m\u001b[0;34m=\u001b[0m\u001b[0;32mlambda\u001b[0m \u001b[0mline\u001b[0m\u001b[0;34m:\u001b[0m \u001b[0mline\u001b[0m\u001b[0;34m[\u001b[0m\u001b[0;36m1\u001b[0m\u001b[0;34m:\u001b[0m\u001b[0;34m]\u001b[0m \u001b[0;32mif\u001b[0m \u001b[0mline\u001b[0m\u001b[0;34m.\u001b[0m\u001b[0mstartswith\u001b[0m\u001b[0;34m(\u001b[0m\u001b[0;34m\"#\"\u001b[0m\u001b[0;34m)\u001b[0m \u001b[0;32melse\u001b[0m \u001b[0mline\u001b[0m\u001b[0;34m,\u001b[0m\u001b[0;34m\u001b[0m\u001b[0;34m\u001b[0m\u001b[0m\n",
            "\u001b[0;32m~/opt/anaconda3/lib/python3.9/site-packages/matplotlib/cbook/__init__.py\u001b[0m in \u001b[0;36m_get_data_path\u001b[0;34m(*args)\u001b[0m\n",
            "\u001b[0;31mAttributeError\u001b[0m: module 'matplotlib' has no attribute 'get_data_path'"
          ]
        }
      ],
      "source": [
        "import pandas as pd\n",
        "import matplotlib.pyplot as plt\n",
        "\n",
        "fraud.hist(figsize = (20, 20))\n",
        "plt.show()"
      ]
    },
    {
      "cell_type": "markdown",
      "metadata": {
        "id": "qtjGL4MmjjYq"
      },
      "source": [
        "These are histograms of the amounts of other features in the dataset; the histograms above are all fraud transactions, and the histograms below are all real transactions."
      ]
    },
    {
      "cell_type": "code",
      "execution_count": 13,
      "metadata": {
        "colab": {
          "base_uri": "https://localhost:8080/",
          "height": 1000
        },
        "id": "U4UKBdamfs3_",
        "outputId": "554b571d-2793-4b4e-95f1-a2c3f034801f"
      },
      "outputs": [
        {
          "ename": "AttributeError",
          "evalue": "module 'matplotlib' has no attribute 'get_data_path'",
          "output_type": "error",
          "traceback": [
            "\u001b[0;31m---------------------------------------------------------------------------\u001b[0m",
            "\u001b[0;31mAttributeError\u001b[0m                            Traceback (most recent call last)",
            "\u001b[0;32m/var/folders/_l/t31rqf057m3fwrzq7xxzmxj40000gp/T/ipykernel_815/1703577135.py\u001b[0m in \u001b[0;36m<module>\u001b[0;34m\u001b[0m\n\u001b[0;32m----> 1\u001b[0;31m \u001b[0mreal\u001b[0m\u001b[0;34m.\u001b[0m\u001b[0mhist\u001b[0m\u001b[0;34m(\u001b[0m\u001b[0mfigsize\u001b[0m \u001b[0;34m=\u001b[0m \u001b[0;34m(\u001b[0m\u001b[0;36m20\u001b[0m\u001b[0;34m,\u001b[0m \u001b[0;36m20\u001b[0m\u001b[0;34m)\u001b[0m\u001b[0;34m)\u001b[0m\u001b[0;34m\u001b[0m\u001b[0;34m\u001b[0m\u001b[0m\n\u001b[0m\u001b[1;32m      2\u001b[0m \u001b[0mplt\u001b[0m\u001b[0;34m.\u001b[0m\u001b[0mshow\u001b[0m\u001b[0;34m(\u001b[0m\u001b[0;34m)\u001b[0m\u001b[0;34m\u001b[0m\u001b[0;34m\u001b[0m\u001b[0m\n",
            "\u001b[0;32m~/opt/anaconda3/lib/python3.9/site-packages/pandas/plotting/_core.py\u001b[0m in \u001b[0;36mhist_frame\u001b[0;34m(data, column, by, grid, xlabelsize, xrot, ylabelsize, yrot, ax, sharex, sharey, figsize, layout, bins, backend, legend, **kwargs)\u001b[0m\n\u001b[1;32m    223\u001b[0m         \u001b[0;34m>>\u001b[0m\u001b[0;34m>\u001b[0m \u001b[0mhist\u001b[0m \u001b[0;34m=\u001b[0m \u001b[0mdf\u001b[0m\u001b[0;34m.\u001b[0m\u001b[0mhist\u001b[0m\u001b[0;34m(\u001b[0m\u001b[0mbins\u001b[0m\u001b[0;34m=\u001b[0m\u001b[0;36m3\u001b[0m\u001b[0;34m)\u001b[0m\u001b[0;34m\u001b[0m\u001b[0;34m\u001b[0m\u001b[0m\n\u001b[1;32m    224\u001b[0m     \"\"\"\n\u001b[0;32m--> 225\u001b[0;31m     \u001b[0mplot_backend\u001b[0m \u001b[0;34m=\u001b[0m \u001b[0m_get_plot_backend\u001b[0m\u001b[0;34m(\u001b[0m\u001b[0mbackend\u001b[0m\u001b[0;34m)\u001b[0m\u001b[0;34m\u001b[0m\u001b[0;34m\u001b[0m\u001b[0m\n\u001b[0m\u001b[1;32m    226\u001b[0m     return plot_backend.hist_frame(\n\u001b[1;32m    227\u001b[0m         \u001b[0mdata\u001b[0m\u001b[0;34m,\u001b[0m\u001b[0;34m\u001b[0m\u001b[0;34m\u001b[0m\u001b[0m\n",
            "\u001b[0;32m~/opt/anaconda3/lib/python3.9/site-packages/pandas/plotting/_core.py\u001b[0m in \u001b[0;36m_get_plot_backend\u001b[0;34m(backend)\u001b[0m\n\u001b[1;32m   1847\u001b[0m         \u001b[0;32mreturn\u001b[0m \u001b[0m_backends\u001b[0m\u001b[0;34m[\u001b[0m\u001b[0mbackend\u001b[0m\u001b[0;34m]\u001b[0m\u001b[0;34m\u001b[0m\u001b[0;34m\u001b[0m\u001b[0m\n\u001b[1;32m   1848\u001b[0m \u001b[0;34m\u001b[0m\u001b[0m\n\u001b[0;32m-> 1849\u001b[0;31m     \u001b[0mmodule\u001b[0m \u001b[0;34m=\u001b[0m \u001b[0m_load_backend\u001b[0m\u001b[0;34m(\u001b[0m\u001b[0mbackend\u001b[0m\u001b[0;34m)\u001b[0m\u001b[0;34m\u001b[0m\u001b[0;34m\u001b[0m\u001b[0m\n\u001b[0m\u001b[1;32m   1850\u001b[0m     \u001b[0m_backends\u001b[0m\u001b[0;34m[\u001b[0m\u001b[0mbackend\u001b[0m\u001b[0;34m]\u001b[0m \u001b[0;34m=\u001b[0m \u001b[0mmodule\u001b[0m\u001b[0;34m\u001b[0m\u001b[0;34m\u001b[0m\u001b[0m\n\u001b[1;32m   1851\u001b[0m     \u001b[0;32mreturn\u001b[0m \u001b[0mmodule\u001b[0m\u001b[0;34m\u001b[0m\u001b[0;34m\u001b[0m\u001b[0m\n",
            "\u001b[0;32m~/opt/anaconda3/lib/python3.9/site-packages/pandas/plotting/_core.py\u001b[0m in \u001b[0;36m_load_backend\u001b[0;34m(backend)\u001b[0m\n\u001b[1;32m   1783\u001b[0m         \u001b[0;31m# we need to attempt an import here to raise an ImportError if needed.\u001b[0m\u001b[0;34m\u001b[0m\u001b[0;34m\u001b[0m\u001b[0m\n\u001b[1;32m   1784\u001b[0m         \u001b[0;32mtry\u001b[0m\u001b[0;34m:\u001b[0m\u001b[0;34m\u001b[0m\u001b[0;34m\u001b[0m\u001b[0m\n\u001b[0;32m-> 1785\u001b[0;31m             \u001b[0mmodule\u001b[0m \u001b[0;34m=\u001b[0m \u001b[0mimportlib\u001b[0m\u001b[0;34m.\u001b[0m\u001b[0mimport_module\u001b[0m\u001b[0;34m(\u001b[0m\u001b[0;34m\"pandas.plotting._matplotlib\"\u001b[0m\u001b[0;34m)\u001b[0m\u001b[0;34m\u001b[0m\u001b[0;34m\u001b[0m\u001b[0m\n\u001b[0m\u001b[1;32m   1786\u001b[0m         \u001b[0;32mexcept\u001b[0m \u001b[0mImportError\u001b[0m\u001b[0;34m:\u001b[0m\u001b[0;34m\u001b[0m\u001b[0;34m\u001b[0m\u001b[0m\n\u001b[1;32m   1787\u001b[0m             raise ImportError(\n",
            "\u001b[0;32m~/opt/anaconda3/lib/python3.9/importlib/__init__.py\u001b[0m in \u001b[0;36mimport_module\u001b[0;34m(name, package)\u001b[0m\n\u001b[1;32m    125\u001b[0m                 \u001b[0;32mbreak\u001b[0m\u001b[0;34m\u001b[0m\u001b[0;34m\u001b[0m\u001b[0m\n\u001b[1;32m    126\u001b[0m             \u001b[0mlevel\u001b[0m \u001b[0;34m+=\u001b[0m \u001b[0;36m1\u001b[0m\u001b[0;34m\u001b[0m\u001b[0;34m\u001b[0m\u001b[0m\n\u001b[0;32m--> 127\u001b[0;31m     \u001b[0;32mreturn\u001b[0m \u001b[0m_bootstrap\u001b[0m\u001b[0;34m.\u001b[0m\u001b[0m_gcd_import\u001b[0m\u001b[0;34m(\u001b[0m\u001b[0mname\u001b[0m\u001b[0;34m[\u001b[0m\u001b[0mlevel\u001b[0m\u001b[0;34m:\u001b[0m\u001b[0;34m]\u001b[0m\u001b[0;34m,\u001b[0m \u001b[0mpackage\u001b[0m\u001b[0;34m,\u001b[0m \u001b[0mlevel\u001b[0m\u001b[0;34m)\u001b[0m\u001b[0;34m\u001b[0m\u001b[0;34m\u001b[0m\u001b[0m\n\u001b[0m\u001b[1;32m    128\u001b[0m \u001b[0;34m\u001b[0m\u001b[0m\n\u001b[1;32m    129\u001b[0m \u001b[0;34m\u001b[0m\u001b[0m\n",
            "\u001b[0;32m~/opt/anaconda3/lib/python3.9/importlib/_bootstrap.py\u001b[0m in \u001b[0;36m_gcd_import\u001b[0;34m(name, package, level)\u001b[0m\n",
            "\u001b[0;32m~/opt/anaconda3/lib/python3.9/importlib/_bootstrap.py\u001b[0m in \u001b[0;36m_find_and_load\u001b[0;34m(name, import_)\u001b[0m\n",
            "\u001b[0;32m~/opt/anaconda3/lib/python3.9/importlib/_bootstrap.py\u001b[0m in \u001b[0;36m_find_and_load_unlocked\u001b[0;34m(name, import_)\u001b[0m\n",
            "\u001b[0;32m~/opt/anaconda3/lib/python3.9/importlib/_bootstrap.py\u001b[0m in \u001b[0;36m_load_unlocked\u001b[0;34m(spec)\u001b[0m\n",
            "\u001b[0;32m~/opt/anaconda3/lib/python3.9/importlib/_bootstrap_external.py\u001b[0m in \u001b[0;36mexec_module\u001b[0;34m(self, module)\u001b[0m\n",
            "\u001b[0;32m~/opt/anaconda3/lib/python3.9/importlib/_bootstrap.py\u001b[0m in \u001b[0;36m_call_with_frames_removed\u001b[0;34m(f, *args, **kwds)\u001b[0m\n",
            "\u001b[0;32m~/opt/anaconda3/lib/python3.9/site-packages/pandas/plotting/_matplotlib/__init__.py\u001b[0m in \u001b[0;36m<module>\u001b[0;34m\u001b[0m\n\u001b[1;32m      3\u001b[0m \u001b[0;32mfrom\u001b[0m \u001b[0mtyping\u001b[0m \u001b[0;32mimport\u001b[0m \u001b[0mTYPE_CHECKING\u001b[0m\u001b[0;34m\u001b[0m\u001b[0;34m\u001b[0m\u001b[0m\n\u001b[1;32m      4\u001b[0m \u001b[0;34m\u001b[0m\u001b[0m\n\u001b[0;32m----> 5\u001b[0;31m from pandas.plotting._matplotlib.boxplot import (\n\u001b[0m\u001b[1;32m      6\u001b[0m     \u001b[0mBoxPlot\u001b[0m\u001b[0;34m,\u001b[0m\u001b[0;34m\u001b[0m\u001b[0;34m\u001b[0m\u001b[0m\n\u001b[1;32m      7\u001b[0m     \u001b[0mboxplot\u001b[0m\u001b[0;34m,\u001b[0m\u001b[0;34m\u001b[0m\u001b[0;34m\u001b[0m\u001b[0m\n",
            "\u001b[0;32m~/opt/anaconda3/lib/python3.9/site-packages/pandas/plotting/_matplotlib/boxplot.py\u001b[0m in \u001b[0;36m<module>\u001b[0;34m\u001b[0m\n\u001b[1;32m      7\u001b[0m \u001b[0;32mimport\u001b[0m \u001b[0mwarnings\u001b[0m\u001b[0;34m\u001b[0m\u001b[0;34m\u001b[0m\u001b[0m\n\u001b[1;32m      8\u001b[0m \u001b[0;34m\u001b[0m\u001b[0m\n\u001b[0;32m----> 9\u001b[0;31m \u001b[0;32mfrom\u001b[0m \u001b[0mmatplotlib\u001b[0m\u001b[0;34m.\u001b[0m\u001b[0martist\u001b[0m \u001b[0;32mimport\u001b[0m \u001b[0msetp\u001b[0m\u001b[0;34m\u001b[0m\u001b[0;34m\u001b[0m\u001b[0m\n\u001b[0m\u001b[1;32m     10\u001b[0m \u001b[0;32mimport\u001b[0m \u001b[0mnumpy\u001b[0m \u001b[0;32mas\u001b[0m \u001b[0mnp\u001b[0m\u001b[0;34m\u001b[0m\u001b[0;34m\u001b[0m\u001b[0m\n\u001b[1;32m     11\u001b[0m \u001b[0;34m\u001b[0m\u001b[0m\n",
            "\u001b[0;32m~/opt/anaconda3/lib/python3.9/site-packages/matplotlib/__init__.py\u001b[0m in \u001b[0;36m<module>\u001b[0;34m\u001b[0m\n\u001b[1;32m    962\u001b[0m \u001b[0;31m# triggering resolution of _auto_backend_sentinel.\u001b[0m\u001b[0;34m\u001b[0m\u001b[0;34m\u001b[0m\u001b[0m\n\u001b[1;32m    963\u001b[0m rcParamsDefault = _rc_params_in_file(\n\u001b[0;32m--> 964\u001b[0;31m     \u001b[0mcbook\u001b[0m\u001b[0;34m.\u001b[0m\u001b[0m_get_data_path\u001b[0m\u001b[0;34m(\u001b[0m\u001b[0;34m\"matplotlibrc\"\u001b[0m\u001b[0;34m)\u001b[0m\u001b[0;34m,\u001b[0m\u001b[0;34m\u001b[0m\u001b[0;34m\u001b[0m\u001b[0m\n\u001b[0m\u001b[1;32m    965\u001b[0m     \u001b[0;31m# Strip leading comment.\u001b[0m\u001b[0;34m\u001b[0m\u001b[0;34m\u001b[0m\u001b[0m\n\u001b[1;32m    966\u001b[0m     \u001b[0mtransform\u001b[0m\u001b[0;34m=\u001b[0m\u001b[0;32mlambda\u001b[0m \u001b[0mline\u001b[0m\u001b[0;34m:\u001b[0m \u001b[0mline\u001b[0m\u001b[0;34m[\u001b[0m\u001b[0;36m1\u001b[0m\u001b[0;34m:\u001b[0m\u001b[0;34m]\u001b[0m \u001b[0;32mif\u001b[0m \u001b[0mline\u001b[0m\u001b[0;34m.\u001b[0m\u001b[0mstartswith\u001b[0m\u001b[0;34m(\u001b[0m\u001b[0;34m\"#\"\u001b[0m\u001b[0;34m)\u001b[0m \u001b[0;32melse\u001b[0m \u001b[0mline\u001b[0m\u001b[0;34m,\u001b[0m\u001b[0;34m\u001b[0m\u001b[0;34m\u001b[0m\u001b[0m\n",
            "\u001b[0;32m~/opt/anaconda3/lib/python3.9/site-packages/matplotlib/cbook/__init__.py\u001b[0m in \u001b[0;36m_get_data_path\u001b[0;34m(*args)\u001b[0m\n",
            "\u001b[0;31mAttributeError\u001b[0m: module 'matplotlib' has no attribute 'get_data_path'"
          ]
        }
      ],
      "source": [
        "real.hist(figsize = (20, 20))\n",
        "plt.show()"
      ]
    },
    {
      "cell_type": "code",
      "execution_count": 24,
      "metadata": {
        "id": "KIxyVhr7Xv87"
      },
      "outputs": [],
      "source": [
        "real = real.sample(frac=1, random_state=42)  # shuffling with random_state\n",
        "real = real.head(492)\n",
        "main_df = pd.concat([real, fraud], ignore_index=True)"
      ]
    },
    {
      "cell_type": "markdown",
      "metadata": {
        "id": "5BypWgF6j2kX"
      },
      "source": [
        "To make the dataset more balanced, we randomized the set of real transactions, and then selected only 492 of those transactions to concatenate with all the fraud transactions. Now, the amount of transactions of each class are equal."
      ]
    },
    {
      "cell_type": "code",
      "execution_count": 25,
      "metadata": {
        "id": "tHFUK9BYXENN"
      },
      "outputs": [],
      "source": [
        "#separating features and labels\n",
        "features_df = main_df.drop('Class', axis=1)\n",
        "labels_df = main_df[['Class']]"
      ]
    },
    {
      "cell_type": "code",
      "execution_count": 26,
      "metadata": {
        "id": "q7uZmN08JFMc"
      },
      "outputs": [],
      "source": [
        "#cleaning by dropping null and duplicates\n",
        "features_df = features_df.dropna()\n",
        "features_df = features_df.drop_duplicates()\n",
        "\n",
        "labels_df = labels_df.dropna()\n",
        "labels_df = labels_df.drop_duplicates()"
      ]
    },
    {
      "cell_type": "code",
      "execution_count": 27,
      "metadata": {
        "colab": {
          "base_uri": "https://localhost:8080/",
          "height": 256
        },
        "id": "Q3kjopLBXGhO",
        "outputId": "9463b6f5-a594-461a-ad7e-2135ba2c3d36"
      },
      "outputs": [
        {
          "data": {
            "text/html": [
              "<div>\n",
              "<style scoped>\n",
              "    .dataframe tbody tr th:only-of-type {\n",
              "        vertical-align: middle;\n",
              "    }\n",
              "\n",
              "    .dataframe tbody tr th {\n",
              "        vertical-align: top;\n",
              "    }\n",
              "\n",
              "    .dataframe thead th {\n",
              "        text-align: right;\n",
              "    }\n",
              "</style>\n",
              "<table border=\"1\" class=\"dataframe\">\n",
              "  <thead>\n",
              "    <tr style=\"text-align: right;\">\n",
              "      <th></th>\n",
              "      <th>Time</th>\n",
              "      <th>V1</th>\n",
              "      <th>V2</th>\n",
              "      <th>V3</th>\n",
              "      <th>V4</th>\n",
              "      <th>V5</th>\n",
              "      <th>V6</th>\n",
              "      <th>V7</th>\n",
              "      <th>V8</th>\n",
              "      <th>V9</th>\n",
              "      <th>...</th>\n",
              "      <th>V20</th>\n",
              "      <th>V21</th>\n",
              "      <th>V22</th>\n",
              "      <th>V23</th>\n",
              "      <th>V24</th>\n",
              "      <th>V25</th>\n",
              "      <th>V26</th>\n",
              "      <th>V27</th>\n",
              "      <th>V28</th>\n",
              "      <th>Amount</th>\n",
              "    </tr>\n",
              "  </thead>\n",
              "  <tbody>\n",
              "    <tr>\n",
              "      <th>0</th>\n",
              "      <td>-0.738177</td>\n",
              "      <td>0.243240</td>\n",
              "      <td>-0.147656</td>\n",
              "      <td>0.813983</td>\n",
              "      <td>-0.217141</td>\n",
              "      <td>0.265181</td>\n",
              "      <td>0.269710</td>\n",
              "      <td>0.501716</td>\n",
              "      <td>0.003845</td>\n",
              "      <td>0.254924</td>\n",
              "      <td>...</td>\n",
              "      <td>-0.322848</td>\n",
              "      <td>-0.085007</td>\n",
              "      <td>0.228393</td>\n",
              "      <td>-0.071032</td>\n",
              "      <td>1.172819</td>\n",
              "      <td>0.041263</td>\n",
              "      <td>-0.498741</td>\n",
              "      <td>-0.093896</td>\n",
              "      <td>0.005161</td>\n",
              "      <td>-0.425211</td>\n",
              "    </tr>\n",
              "    <tr>\n",
              "      <th>1</th>\n",
              "      <td>-1.396758</td>\n",
              "      <td>0.607907</td>\n",
              "      <td>-0.604812</td>\n",
              "      <td>0.724817</td>\n",
              "      <td>-0.915447</td>\n",
              "      <td>0.164843</td>\n",
              "      <td>0.734302</td>\n",
              "      <td>0.290660</td>\n",
              "      <td>-0.036706</td>\n",
              "      <td>1.790144</td>\n",
              "      <td>...</td>\n",
              "      <td>-0.420606</td>\n",
              "      <td>-0.144507</td>\n",
              "      <td>0.315808</td>\n",
              "      <td>0.053296</td>\n",
              "      <td>-0.476390</td>\n",
              "      <td>0.369983</td>\n",
              "      <td>-1.491460</td>\n",
              "      <td>-0.020384</td>\n",
              "      <td>-0.059877</td>\n",
              "      <td>-0.402876</td>\n",
              "    </tr>\n",
              "    <tr>\n",
              "      <th>2</th>\n",
              "      <td>0.392664</td>\n",
              "      <td>0.308770</td>\n",
              "      <td>-0.120144</td>\n",
              "      <td>0.800596</td>\n",
              "      <td>-0.699916</td>\n",
              "      <td>0.498861</td>\n",
              "      <td>0.056793</td>\n",
              "      <td>0.666051</td>\n",
              "      <td>-0.211799</td>\n",
              "      <td>0.690302</td>\n",
              "      <td>...</td>\n",
              "      <td>-0.095367</td>\n",
              "      <td>-0.326672</td>\n",
              "      <td>-0.909095</td>\n",
              "      <td>-0.225989</td>\n",
              "      <td>0.043373</td>\n",
              "      <td>0.567144</td>\n",
              "      <td>0.878564</td>\n",
              "      <td>-0.164752</td>\n",
              "      <td>0.022120</td>\n",
              "      <td>-0.402249</td>\n",
              "    </tr>\n",
              "    <tr>\n",
              "      <th>3</th>\n",
              "      <td>-1.222779</td>\n",
              "      <td>0.599528</td>\n",
              "      <td>-0.589673</td>\n",
              "      <td>0.758509</td>\n",
              "      <td>-0.548916</td>\n",
              "      <td>0.090631</td>\n",
              "      <td>0.505572</td>\n",
              "      <td>0.314407</td>\n",
              "      <td>-0.069747</td>\n",
              "      <td>0.723716</td>\n",
              "      <td>...</td>\n",
              "      <td>-0.088512</td>\n",
              "      <td>0.028904</td>\n",
              "      <td>0.731840</td>\n",
              "      <td>-0.093455</td>\n",
              "      <td>0.242356</td>\n",
              "      <td>0.235808</td>\n",
              "      <td>1.204437</td>\n",
              "      <td>-0.122191</td>\n",
              "      <td>-0.018751</td>\n",
              "      <td>-0.135852</td>\n",
              "    </tr>\n",
              "    <tr>\n",
              "      <th>4</th>\n",
              "      <td>-1.052811</td>\n",
              "      <td>0.301958</td>\n",
              "      <td>-0.220497</td>\n",
              "      <td>0.817275</td>\n",
              "      <td>-0.746187</td>\n",
              "      <td>0.393054</td>\n",
              "      <td>0.370357</td>\n",
              "      <td>0.553503</td>\n",
              "      <td>-0.062417</td>\n",
              "      <td>0.249565</td>\n",
              "      <td>...</td>\n",
              "      <td>-0.118237</td>\n",
              "      <td>-0.191131</td>\n",
              "      <td>-0.421071</td>\n",
              "      <td>0.045158</td>\n",
              "      <td>0.089161</td>\n",
              "      <td>-0.484659</td>\n",
              "      <td>0.157255</td>\n",
              "      <td>0.182397</td>\n",
              "      <td>0.175905</td>\n",
              "      <td>-0.428081</td>\n",
              "    </tr>\n",
              "  </tbody>\n",
              "</table>\n",
              "<p>5 rows × 30 columns</p>\n",
              "</div>"
            ],
            "text/plain": [
              "       Time        V1        V2        V3        V4        V5        V6  \\\n",
              "0 -0.738177  0.243240 -0.147656  0.813983 -0.217141  0.265181  0.269710   \n",
              "1 -1.396758  0.607907 -0.604812  0.724817 -0.915447  0.164843  0.734302   \n",
              "2  0.392664  0.308770 -0.120144  0.800596 -0.699916  0.498861  0.056793   \n",
              "3 -1.222779  0.599528 -0.589673  0.758509 -0.548916  0.090631  0.505572   \n",
              "4 -1.052811  0.301958 -0.220497  0.817275 -0.746187  0.393054  0.370357   \n",
              "\n",
              "         V7        V8        V9  ...       V20       V21       V22       V23  \\\n",
              "0  0.501716  0.003845  0.254924  ... -0.322848 -0.085007  0.228393 -0.071032   \n",
              "1  0.290660 -0.036706  1.790144  ... -0.420606 -0.144507  0.315808  0.053296   \n",
              "2  0.666051 -0.211799  0.690302  ... -0.095367 -0.326672 -0.909095 -0.225989   \n",
              "3  0.314407 -0.069747  0.723716  ... -0.088512  0.028904  0.731840 -0.093455   \n",
              "4  0.553503 -0.062417  0.249565  ... -0.118237 -0.191131 -0.421071  0.045158   \n",
              "\n",
              "        V24       V25       V26       V27       V28    Amount  \n",
              "0  1.172819  0.041263 -0.498741 -0.093896  0.005161 -0.425211  \n",
              "1 -0.476390  0.369983 -1.491460 -0.020384 -0.059877 -0.402876  \n",
              "2  0.043373  0.567144  0.878564 -0.164752  0.022120 -0.402249  \n",
              "3  0.242356  0.235808  1.204437 -0.122191 -0.018751 -0.135852  \n",
              "4  0.089161 -0.484659  0.157255  0.182397  0.175905 -0.428081  \n",
              "\n",
              "[5 rows x 30 columns]"
            ]
          },
          "execution_count": 27,
          "metadata": {},
          "output_type": "execute_result"
        }
      ],
      "source": [
        "from sklearn.preprocessing import StandardScaler\n",
        "#scaling numerical features\n",
        "scaler = StandardScaler()\n",
        "all_columns = features_df.columns\n",
        "\n",
        "features_df[all_columns] = scaler.fit_transform(features_df[all_columns])\n",
        "features_df.head()"
      ]
    },
    {
      "cell_type": "code",
      "execution_count": 28,
      "metadata": {
        "colab": {
          "base_uri": "https://localhost:8080/"
        },
        "id": "XBzRGg5XXIYi",
        "outputId": "f8544f9e-9c7d-4d08-db8c-760f0ad40da4"
      },
      "outputs": [
        {
          "ename": "ValueError",
          "evalue": "Found input variables with inconsistent numbers of samples: [965, 2]",
          "output_type": "error",
          "traceback": [
            "\u001b[0;31m---------------------------------------------------------------------------\u001b[0m",
            "\u001b[0;31mValueError\u001b[0m                                Traceback (most recent call last)",
            "\u001b[0;32m/var/folders/_l/t31rqf057m3fwrzq7xxzmxj40000gp/T/ipykernel_815/1124226765.py\u001b[0m in \u001b[0;36m<module>\u001b[0;34m\u001b[0m\n\u001b[1;32m      4\u001b[0m \u001b[0mfeatures\u001b[0m \u001b[0;34m=\u001b[0m \u001b[0mfeatures_df\u001b[0m\u001b[0;34m.\u001b[0m\u001b[0mto_numpy\u001b[0m\u001b[0;34m(\u001b[0m\u001b[0;34m)\u001b[0m\u001b[0;34m\u001b[0m\u001b[0;34m\u001b[0m\u001b[0m\n\u001b[1;32m      5\u001b[0m \u001b[0mlabels\u001b[0m \u001b[0;34m=\u001b[0m \u001b[0mlabels_df\u001b[0m\u001b[0;34m.\u001b[0m\u001b[0mto_numpy\u001b[0m\u001b[0;34m(\u001b[0m\u001b[0;34m)\u001b[0m\u001b[0;34m\u001b[0m\u001b[0;34m\u001b[0m\u001b[0m\n\u001b[0;32m----> 6\u001b[0;31m \u001b[0m_x\u001b[0m\u001b[0;34m,\u001b[0m \u001b[0mx_test\u001b[0m\u001b[0;34m,\u001b[0m \u001b[0m_y\u001b[0m\u001b[0;34m,\u001b[0m \u001b[0my_test\u001b[0m \u001b[0;34m=\u001b[0m \u001b[0mtrain_test_split\u001b[0m\u001b[0;34m(\u001b[0m\u001b[0mfeatures\u001b[0m\u001b[0;34m,\u001b[0m \u001b[0mlabels\u001b[0m\u001b[0;34m,\u001b[0m \u001b[0mtest_size\u001b[0m\u001b[0;34m=\u001b[0m\u001b[0;36m0.10\u001b[0m\u001b[0;34m,\u001b[0m \u001b[0mrandom_state\u001b[0m\u001b[0;34m=\u001b[0m\u001b[0;36m42\u001b[0m\u001b[0;34m)\u001b[0m\u001b[0;34m\u001b[0m\u001b[0;34m\u001b[0m\u001b[0m\n\u001b[0m\u001b[1;32m      7\u001b[0m \u001b[0;34m\u001b[0m\u001b[0m\n\u001b[1;32m      8\u001b[0m \u001b[0;31m# set k = 5\u001b[0m\u001b[0;34m\u001b[0m\u001b[0;34m\u001b[0m\u001b[0m\n",
            "\u001b[0;32m~/opt/anaconda3/lib/python3.9/site-packages/sklearn/model_selection/_split.py\u001b[0m in \u001b[0;36mtrain_test_split\u001b[0;34m(test_size, train_size, random_state, shuffle, stratify, *arrays)\u001b[0m\n\u001b[1;32m   2415\u001b[0m         \u001b[0;32mraise\u001b[0m \u001b[0mValueError\u001b[0m\u001b[0;34m(\u001b[0m\u001b[0;34m\"At least one array required as input\"\u001b[0m\u001b[0;34m)\u001b[0m\u001b[0;34m\u001b[0m\u001b[0;34m\u001b[0m\u001b[0m\n\u001b[1;32m   2416\u001b[0m \u001b[0;34m\u001b[0m\u001b[0m\n\u001b[0;32m-> 2417\u001b[0;31m     \u001b[0marrays\u001b[0m \u001b[0;34m=\u001b[0m \u001b[0mindexable\u001b[0m\u001b[0;34m(\u001b[0m\u001b[0;34m*\u001b[0m\u001b[0marrays\u001b[0m\u001b[0;34m)\u001b[0m\u001b[0;34m\u001b[0m\u001b[0;34m\u001b[0m\u001b[0m\n\u001b[0m\u001b[1;32m   2418\u001b[0m \u001b[0;34m\u001b[0m\u001b[0m\n\u001b[1;32m   2419\u001b[0m     \u001b[0mn_samples\u001b[0m \u001b[0;34m=\u001b[0m \u001b[0m_num_samples\u001b[0m\u001b[0;34m(\u001b[0m\u001b[0marrays\u001b[0m\u001b[0;34m[\u001b[0m\u001b[0;36m0\u001b[0m\u001b[0;34m]\u001b[0m\u001b[0;34m)\u001b[0m\u001b[0;34m\u001b[0m\u001b[0;34m\u001b[0m\u001b[0m\n",
            "\u001b[0;32m~/opt/anaconda3/lib/python3.9/site-packages/sklearn/utils/validation.py\u001b[0m in \u001b[0;36mindexable\u001b[0;34m(*iterables)\u001b[0m\n\u001b[1;32m    376\u001b[0m \u001b[0;34m\u001b[0m\u001b[0m\n\u001b[1;32m    377\u001b[0m     \u001b[0mresult\u001b[0m \u001b[0;34m=\u001b[0m \u001b[0;34m[\u001b[0m\u001b[0m_make_indexable\u001b[0m\u001b[0;34m(\u001b[0m\u001b[0mX\u001b[0m\u001b[0;34m)\u001b[0m \u001b[0;32mfor\u001b[0m \u001b[0mX\u001b[0m \u001b[0;32min\u001b[0m \u001b[0miterables\u001b[0m\u001b[0;34m]\u001b[0m\u001b[0;34m\u001b[0m\u001b[0;34m\u001b[0m\u001b[0m\n\u001b[0;32m--> 378\u001b[0;31m     \u001b[0mcheck_consistent_length\u001b[0m\u001b[0;34m(\u001b[0m\u001b[0;34m*\u001b[0m\u001b[0mresult\u001b[0m\u001b[0;34m)\u001b[0m\u001b[0;34m\u001b[0m\u001b[0;34m\u001b[0m\u001b[0m\n\u001b[0m\u001b[1;32m    379\u001b[0m     \u001b[0;32mreturn\u001b[0m \u001b[0mresult\u001b[0m\u001b[0;34m\u001b[0m\u001b[0;34m\u001b[0m\u001b[0m\n\u001b[1;32m    380\u001b[0m \u001b[0;34m\u001b[0m\u001b[0m\n",
            "\u001b[0;32m~/opt/anaconda3/lib/python3.9/site-packages/sklearn/utils/validation.py\u001b[0m in \u001b[0;36mcheck_consistent_length\u001b[0;34m(*arrays)\u001b[0m\n\u001b[1;32m    330\u001b[0m     \u001b[0muniques\u001b[0m \u001b[0;34m=\u001b[0m \u001b[0mnp\u001b[0m\u001b[0;34m.\u001b[0m\u001b[0munique\u001b[0m\u001b[0;34m(\u001b[0m\u001b[0mlengths\u001b[0m\u001b[0;34m)\u001b[0m\u001b[0;34m\u001b[0m\u001b[0;34m\u001b[0m\u001b[0m\n\u001b[1;32m    331\u001b[0m     \u001b[0;32mif\u001b[0m \u001b[0mlen\u001b[0m\u001b[0;34m(\u001b[0m\u001b[0muniques\u001b[0m\u001b[0;34m)\u001b[0m \u001b[0;34m>\u001b[0m \u001b[0;36m1\u001b[0m\u001b[0;34m:\u001b[0m\u001b[0;34m\u001b[0m\u001b[0;34m\u001b[0m\u001b[0m\n\u001b[0;32m--> 332\u001b[0;31m         raise ValueError(\n\u001b[0m\u001b[1;32m    333\u001b[0m             \u001b[0;34m\"Found input variables with inconsistent numbers of samples: %r\"\u001b[0m\u001b[0;34m\u001b[0m\u001b[0;34m\u001b[0m\u001b[0m\n\u001b[1;32m    334\u001b[0m             \u001b[0;34m%\u001b[0m \u001b[0;34m[\u001b[0m\u001b[0mint\u001b[0m\u001b[0;34m(\u001b[0m\u001b[0ml\u001b[0m\u001b[0;34m)\u001b[0m \u001b[0;32mfor\u001b[0m \u001b[0ml\u001b[0m \u001b[0;32min\u001b[0m \u001b[0mlengths\u001b[0m\u001b[0;34m]\u001b[0m\u001b[0;34m\u001b[0m\u001b[0;34m\u001b[0m\u001b[0m\n",
            "\u001b[0;31mValueError\u001b[0m: Found input variables with inconsistent numbers of samples: [965, 2]"
          ]
        }
      ],
      "source": [
        "from sklearn.model_selection import train_test_split\n",
        "from sklearn.model_selection import KFold\n",
        "#splitting data into training and testing\n",
        "features = features_df.to_numpy()\n",
        "labels = labels_df.to_numpy()\n",
        "_x, x_test, _y, y_test = train_test_split(features, labels, test_size=0.10, random_state=42)\n",
        "\n",
        "# set k = 5\n",
        "k = 5\n",
        "\n",
        "kfold_spliiter = KFold(n_splits=k)\n",
        "\n",
        "folds_data = []\n",
        "\n",
        "fold = 1\n",
        "for train_index, validation_index in kfold_spliiter.split(_x):\n",
        "    x_train , x_valid = _x[train_index,:],_x[validation_index,:]\n",
        "    y_train , y_valid = _y[train_index,:] , _y[validation_index,:]\n",
        "    print (f\"Fold {fold} training data shape = {(x_train.shape,y_train.shape)}\")\n",
        "    print (f\"Fold {fold} validation data shape = {(x_valid.shape,y_valid.shape)}\")\n",
        "    fold+=1\n",
        "    folds_data.append((x_train,y_train,x_valid,y_valid))"
      ]
    },
    {
      "cell_type": "code",
      "execution_count": 29,
      "metadata": {
        "colab": {
          "base_uri": "https://localhost:8080/"
        },
        "id": "D-dehXWx3GE8",
        "outputId": "8f3bee81-444b-484e-d520-32d8324ceb1b"
      },
      "outputs": [
        {
          "ename": "NameError",
          "evalue": "name 'all_models' is not defined",
          "output_type": "error",
          "traceback": [
            "\u001b[0;31m---------------------------------------------------------------------------\u001b[0m",
            "\u001b[0;31mNameError\u001b[0m                                 Traceback (most recent call last)",
            "\u001b[0;32m/var/folders/_l/t31rqf057m3fwrzq7xxzmxj40000gp/T/ipykernel_815/2373828063.py\u001b[0m in \u001b[0;36m<module>\u001b[0;34m\u001b[0m\n\u001b[1;32m     15\u001b[0m               \"RandomForestClassifier\":rf_classifier}\n\u001b[1;32m     16\u001b[0m \u001b[0;34m\u001b[0m\u001b[0m\n\u001b[0;32m---> 17\u001b[0;31m \u001b[0mprint\u001b[0m \u001b[0;34m(\u001b[0m\u001b[0;34mf\"These are the 4 classifiers we will use: {all_models.keys()}\"\u001b[0m\u001b[0;34m)\u001b[0m\u001b[0;34m\u001b[0m\u001b[0;34m\u001b[0m\u001b[0m\n\u001b[0m",
            "\u001b[0;31mNameError\u001b[0m: name 'all_models' is not defined"
          ]
        }
      ],
      "source": [
        "from sklearn.linear_model import LogisticRegression\n",
        "from sklearn.neural_network import MLPClassifier\n",
        "from sklearn.tree import DecisionTreeClassifier\n",
        "from sklearn.ensemble import RandomForestClassifier\n",
        "\n",
        "\n",
        "lr_classifier = LogisticRegression(solver='lbfgs',max_iter=150)\n",
        "mlp_classifier = MLPClassifier(solver='lbfgs', max_iter=150)\n",
        "dt_classifier = DecisionTreeClassifier(random_state=42)\n",
        "rf_classifier = RandomForestClassifier(n_estimators=150, random_state=42)\n",
        "\n",
        "classifiers = {\"Logistic Regression Classifier\":lr_classifier,\n",
        "              \"MLP Classifier\":mlp_classifier,\n",
        "              \"DecisionTreeClassifier\":dt_classifier,\n",
        "              \"RandomForestClassifier\":rf_classifier}\n",
        "\n",
        "print (f\"These are the 4 classifiers we will use: {all_models.keys()}\")"
      ]
    },
    {
      "cell_type": "code",
      "execution_count": 57,
      "metadata": {
        "colab": {
          "base_uri": "https://localhost:8080/"
        },
        "id": "wZGG2vGG4FcQ",
        "outputId": "69b65213-a5d6-4b92-f107-360db03aff38"
      },
      "outputs": [
        {
          "name": "stdout",
          "output_type": "stream",
          "text": [
            "The avg training accuracy for this model, Logistic Regression Classifier = 0.9607344632768362\n",
            "The avg validation accuracy for this model, Logistic Regression Classifier = 0.9491525423728813\n",
            "-----------------------------------\n",
            "The avg training accuracy for this model, MLP Classifier = 1.0\n",
            "The avg validation accuracy for this model, MLP Classifier = 0.927683615819209\n",
            "-----------------------------------\n",
            "The avg training accuracy for this model, DecisionTreeClassifier = 1.0\n",
            "The avg validation accuracy for this model, DecisionTreeClassifier = 0.9265536723163841\n",
            "-----------------------------------\n",
            "The avg training accuracy for this model, RandomForestClassifier = 1.0\n",
            "The avg validation accuracy for this model, RandomForestClassifier = 0.9457627118644067\n",
            "-----------------------------------\n",
            "Our best model is Logistic Regression Classifier with a validation accuracy of 0.9491525423728813\n"
          ]
        }
      ],
      "source": [
        "best_validation_accuracy = 0\n",
        "best_model_name = \"\"\n",
        "best_model = None\n",
        "\n",
        "# Iterate over all models\n",
        "for model_name in all_models.keys():\n",
        "\n",
        "    model = all_models[model_name]\n",
        "\n",
        "    # storing accuracies\n",
        "    train_acc_for_all_folds = []\n",
        "    valid_acc_for_all_folds = []\n",
        "\n",
        "    for i, fold in enumerate(folds_data):\n",
        "        x_train, y_train, x_valid, y_valid = fold\n",
        "\n",
        "        _ = model.fit(x_train,y_train.flatten())\n",
        "\n",
        "        y_pred_train = model.predict(x_train)\n",
        "\n",
        "        y_pred_valid = model.predict(x_valid)\n",
        "\n",
        "        train_acc = accuracy_score(y_pred_train , y_train)\n",
        "\n",
        "        # store accuracy\n",
        "        train_acc_for_all_folds.append(train_acc)\n",
        "\n",
        "        valid_acc = accuracy_score(y_pred_valid , y_valid.flatten())\n",
        "\n",
        "        valid_acc_for_all_folds.append(valid_acc)\n",
        "\n",
        "    #average training accuracy across k folds\n",
        "    avg_training_acc = sum(train_acc_for_all_folds)/k\n",
        "\n",
        "    print (f\"The avg training accuracy for this model, {model_name} = {avg_training_acc}\")\n",
        "\n",
        "    #average validation accuracy across k folds\n",
        "    avg_validation_acc = sum(valid_acc_for_all_folds)/k\n",
        "\n",
        "    print (f\"The avg validation accuracy for this model, {model_name} = {avg_validation_acc}\")\n",
        "\n",
        "    # Select best model based on average validation accuracy\n",
        "    if avg_validation_acc > best_validation_accuracy:\n",
        "        best_validation_accuracy = avg_validation_acc\n",
        "        best_model_name = model_name\n",
        "        best_model = model\n",
        "    print (f\"-----------------------------------\")\n",
        "\n",
        "print (f\"Our best model is {best_model_name} with a validation accuracy of {best_validation_accuracy}\")"
      ]
    },
    {
      "cell_type": "markdown",
      "metadata": {
        "id": "_RljX4c6JRck"
      },
      "source": [
        "After computing the accuracies for 4 classifiers, we found that Logistic Regression provided the highest accuracy."
      ]
    },
    {
      "cell_type": "code",
      "execution_count": 58,
      "metadata": {
        "colab": {
          "base_uri": "https://localhost:8080/"
        },
        "id": "t4_mq0OL_zpu",
        "outputId": "badf4b08-0b29-49e4-d983-162b6ba5bf13"
      },
      "outputs": [
        {
          "name": "stdout",
          "output_type": "stream",
          "text": [
            "Removing feature Time\n",
            "Mean cross validation accuracy = 0.9480225988700566\n",
            "Removing feature V1\n",
            "Mean cross validation accuracy = 0.9480225988700566\n",
            "Removing feature V2\n",
            "Mean cross validation accuracy = 0.9480225988700566\n",
            "Removing feature V3\n",
            "Mean cross validation accuracy = 0.9514124293785311\n",
            "Removing feature V4\n",
            "Mean cross validation accuracy = 0.944632768361582\n",
            "Removing feature V5\n",
            "Mean cross validation accuracy = 0.9491525423728813\n",
            "Removing feature V6\n",
            "Mean cross validation accuracy = 0.9491525423728813\n",
            "Removing feature V7\n",
            "Mean cross validation accuracy = 0.9480225988700566\n",
            "Removing feature V8\n",
            "Mean cross validation accuracy = 0.9468926553672317\n",
            "Removing feature V9\n",
            "Mean cross validation accuracy = 0.951412429378531\n",
            "Removing feature V10\n",
            "Mean cross validation accuracy = 0.945762711864407\n",
            "Removing feature V11\n",
            "Mean cross validation accuracy = 0.9525423728813559\n",
            "Removing feature V12\n",
            "Mean cross validation accuracy = 0.9468926553672317\n",
            "Removing feature V13\n",
            "Mean cross validation accuracy = 0.9548022598870057\n",
            "Removing feature V14\n",
            "Mean cross validation accuracy = 0.944632768361582\n",
            "Removing feature V15\n",
            "Mean cross validation accuracy = 0.9491525423728813\n",
            "Removing feature V16\n",
            "Mean cross validation accuracy = 0.9480225988700566\n",
            "Removing feature V17\n",
            "Mean cross validation accuracy = 0.9480225988700566\n",
            "Removing feature V18\n",
            "Mean cross validation accuracy = 0.9491525423728813\n",
            "Removing feature V19\n",
            "Mean cross validation accuracy = 0.9491525423728813\n",
            "Removing feature V20\n",
            "Mean cross validation accuracy = 0.9457627118644067\n",
            "Removing feature V21\n",
            "Mean cross validation accuracy = 0.9480225988700566\n",
            "Removing feature V22\n",
            "Mean cross validation accuracy = 0.951412429378531\n",
            "Removing feature V23\n",
            "Mean cross validation accuracy = 0.9502824858757062\n",
            "Removing feature V24\n",
            "Mean cross validation accuracy = 0.9480225988700566\n",
            "Removing feature V25\n",
            "Mean cross validation accuracy = 0.9514124293785311\n",
            "Removing feature V26\n",
            "Mean cross validation accuracy = 0.9480225988700564\n",
            "Removing feature V27\n",
            "Mean cross validation accuracy = 0.9502824858757062\n",
            "Removing feature V28\n",
            "Mean cross validation accuracy = 0.9468926553672317\n",
            "Removing feature Amount\n",
            "Mean cross validation accuracy = 0.9491525423728813\n"
          ]
        }
      ],
      "source": [
        "from sklearn.model_selection import cross_val_score\n",
        "import numpy\n",
        "\n",
        "best_model = LogisticRegression()\n",
        "\n",
        "feature_names = features_df.columns\n",
        "\n",
        "cv_scores = cross_val_score(best_model,_x,_y.flatten(), cv=k, n_jobs=4)\n",
        "average_cv_score_with_all_features = cv_scores.mean()\n",
        "\n",
        "accuracy_drop_log = {\"No ablation\":0}\n",
        "\n",
        "for i in range(len(feature_names)):\n",
        "    # dropping one feature at a time to see how it impacts accuracy\n",
        "    feature_name = feature_names[i]\n",
        "    print (f\"Removing feature {feature_name}\")\n",
        "    x_ablated = numpy.delete(_x,i,axis=1) # axis = 1 means columns\n",
        "    cv_scores = cross_val_score(best_model,x_ablated,_y.flatten(), cv=k, n_jobs=4)\n",
        "    average_cv_score = cv_scores.mean()\n",
        "    print (f\"Mean cross validation accuracy = {average_cv_score}\")\n",
        "    accuracy_drop_log[feature_name] = average_cv_score_with_all_features-average_cv_score"
      ]
    },
    {
      "cell_type": "code",
      "execution_count": 59,
      "metadata": {
        "colab": {
          "base_uri": "https://localhost:8080/"
        },
        "id": "FQ6c_VBEAZ9x",
        "outputId": "820e7248-dffb-4503-b9f9-bc00b08c487a"
      },
      "outputs": [
        {
          "name": "stdout",
          "output_type": "stream",
          "text": [
            "Features are ranked from best to worst (based on how removing them impacts the accuracy of Logistic Regression Classifier)\n",
            "**************************************\n",
            "Feature 1.V4, drop in acc 0.003389830508474523\n",
            "Feature 2.V14, drop in acc 0.003389830508474523\n",
            "Feature 3.V20, drop in acc 0.00225988700564983\n",
            "Feature 4.V10, drop in acc 0.002259887005649608\n",
            "Feature 5.V8, drop in acc 0.001129943502824915\n",
            "Feature 6.V12, drop in acc 0.001129943502824915\n",
            "Feature 7.V28, drop in acc 0.001129943502824915\n",
            "Feature 8.V26, drop in acc 2.220446049250313e-16\n",
            "Feature 9.Time, drop in acc 0.0\n",
            "Feature 10.V1, drop in acc 0.0\n",
            "Feature 11.V2, drop in acc 0.0\n",
            "Feature 12.V7, drop in acc 0.0\n",
            "Feature 13.V16, drop in acc 0.0\n",
            "Feature 14.V17, drop in acc 0.0\n",
            "Feature 15.V21, drop in acc 0.0\n",
            "Feature 16.V24, drop in acc 0.0\n",
            "Feature 17.V5, drop in acc -0.001129943502824693\n",
            "Feature 18.V6, drop in acc -0.001129943502824693\n",
            "Feature 19.V15, drop in acc -0.001129943502824693\n",
            "Feature 20.V18, drop in acc -0.001129943502824693\n",
            "Feature 21.V19, drop in acc -0.001129943502824693\n",
            "Feature 22.Amount, drop in acc -0.001129943502824693\n",
            "Feature 23.V23, drop in acc -0.002259887005649608\n",
            "Feature 24.V27, drop in acc -0.002259887005649608\n",
            "Feature 25.V9, drop in acc -0.003389830508474412\n",
            "Feature 26.V22, drop in acc -0.003389830508474412\n",
            "Feature 27.V3, drop in acc -0.003389830508474523\n",
            "Feature 28.V25, drop in acc -0.003389830508474523\n",
            "Feature 29.V11, drop in acc -0.004519774011299327\n",
            "Feature 30.V13, drop in acc -0.006779661016949157\n"
          ]
        }
      ],
      "source": [
        "def criteria(l):\n",
        "    return l[1]\n",
        "\n",
        "sorted_accs =  sorted(accuracy_drop_log.items(),key=criteria, reverse=True)\n",
        "\n",
        "print (f\"Features are ranked from best to worst (based on how removing them impacts the accuracy of {best_model_name})\")\n",
        "print (f\"**************************************\")\n",
        "\n",
        "i=1\n",
        "for entry in sorted_accs:\n",
        "    feature_name = entry[0]\n",
        "    acc_drop = entry[1]\n",
        "\n",
        "    # We do not want to print \"No ablation\"\n",
        "    if feature_name != \"No ablation\":\n",
        "        print (f\"Feature {i}.{feature_name}, drop in acc {acc_drop}\")\n",
        "        i=i+1"
      ]
    },
    {
      "cell_type": "markdown",
      "metadata": {
        "id": "9a5n8mjTJxPl"
      },
      "source": [
        "Upon conducting feature ablation, we found that feature V4 and feature V14 had an especially high impact on accuracy, as removing them both caused a drop above 0.0033. On the other hand, some features, such as Amount or V5, actually caused an increase an accuracy when they were removed. From this list, we can deduct that the first 8 features in this ranking contribute most to the accuracy of the model, and are vital to keep in the model upon future work."
      ]
    },
    {
      "cell_type": "code",
      "execution_count": 32,
      "metadata": {},
      "outputs": [],
      "source": [
        "# importing metrics\n",
        "from sklearn.metrics import accuracy_score, precision_score, recall_score, f1_score, roc_auc_score, roc_curve, auc, confusion_matrix, classification_report"
      ]
    },
    {
      "cell_type": "code",
      "execution_count": 31,
      "metadata": {},
      "outputs": [],
      "source": [
        "# define a function to print evaluation metrics\n",
        "def print_evaluation_metrics(y_true, y_pred):\n",
        "    print(\"Accuracy:\", accuracy_score(y_true, y_pred))\n",
        "    print(\"Precision:\", precision_score(y_true, y_pred))\n",
        "    print(\"Recall:\", recall_score(y_true, y_pred))\n",
        "    print(\"F1 Score:\", f1_score(y_true, y_pred))\n",
        "    print(\"ROC-AUC Score:\", roc_auc_score(y_true, y_pred))\n",
        "    print(\"Confusion Matrix:\\n\", confusion_matrix(y_true, y_pred))"
      ]
    },
    {
      "cell_type": "code",
      "execution_count": 34,
      "metadata": {},
      "outputs": [
        {
          "ename": "NameError",
          "evalue": "name 'all_models' is not defined",
          "output_type": "error",
          "traceback": [
            "\u001b[0;31m---------------------------------------------------------------------------\u001b[0m",
            "\u001b[0;31mNameError\u001b[0m                                 Traceback (most recent call last)",
            "\u001b[0;32m/var/folders/_l/t31rqf057m3fwrzq7xxzmxj40000gp/T/ipykernel_815/4195990057.py\u001b[0m in \u001b[0;36m<module>\u001b[0;34m\u001b[0m\n\u001b[1;32m      1\u001b[0m \u001b[0;31m# iterate through models and evaluate each\u001b[0m\u001b[0;34m\u001b[0m\u001b[0;34m\u001b[0m\u001b[0m\n\u001b[0;32m----> 2\u001b[0;31m \u001b[0;32mfor\u001b[0m \u001b[0mname\u001b[0m\u001b[0;34m,\u001b[0m \u001b[0mmodel\u001b[0m \u001b[0;32min\u001b[0m \u001b[0mall_models\u001b[0m\u001b[0;34m.\u001b[0m\u001b[0mitems\u001b[0m\u001b[0;34m(\u001b[0m\u001b[0;34m)\u001b[0m\u001b[0;34m:\u001b[0m\u001b[0;34m\u001b[0m\u001b[0;34m\u001b[0m\u001b[0m\n\u001b[0m\u001b[1;32m      3\u001b[0m     \u001b[0mmodel\u001b[0m\u001b[0;34m.\u001b[0m\u001b[0mfit\u001b[0m\u001b[0;34m(\u001b[0m\u001b[0mx_train\u001b[0m\u001b[0;34m,\u001b[0m \u001b[0my_train\u001b[0m\u001b[0;34m)\u001b[0m\u001b[0;34m\u001b[0m\u001b[0;34m\u001b[0m\u001b[0m\n\u001b[1;32m      4\u001b[0m     \u001b[0my_pred\u001b[0m \u001b[0;34m=\u001b[0m \u001b[0mmodel\u001b[0m\u001b[0;34m.\u001b[0m\u001b[0mpredict\u001b[0m\u001b[0;34m(\u001b[0m\u001b[0mx_test\u001b[0m\u001b[0;34m)\u001b[0m\u001b[0;34m\u001b[0m\u001b[0;34m\u001b[0m\u001b[0m\n\u001b[1;32m      5\u001b[0m     \u001b[0mprint\u001b[0m\u001b[0;34m(\u001b[0m\u001b[0;34mf\"\\n{name} Evaluation Report:\"\u001b[0m\u001b[0;34m)\u001b[0m\u001b[0;34m\u001b[0m\u001b[0;34m\u001b[0m\u001b[0m\n",
            "\u001b[0;31mNameError\u001b[0m: name 'all_models' is not defined"
          ]
        }
      ],
      "source": [
        "# define a function to plot ROC curve and calculate AUC\n",
        "def plot_roc_curve(model, X_test, y_test):\n",
        "    y_score = model.predict_proba(X_test)[:,1]\n",
        "    fpr, tpr, _ = roc_curve(y_test, y_score)\n",
        "    roc_auc = auc(fpr, tpr)\n",
        "\n",
        "    plt.figure()\n",
        "    plt.plot(fpr, tpr, color='darkorange', lw=2, label=f'ROC curve (area = {roc_auc:.2f})')\n",
        "    plt.plot([0, 1], [0, 1], color='navy', lw=2, linestyle='--')\n",
        "    plt.xlim([0.0, 1.0])\n",
        "    plt.ylim([0.0, 1.05])\n",
        "    plt.xlabel('False Positive Rate')\n",
        "    plt.ylabel('True Positive Rate')\n",
        "    plt.title('Receiver Operating Characteristic (ROC) Curve')\n",
        "    plt.legend(loc=\"lower right\")\n",
        "    plt.show()"
      ]
    },
    {
      "cell_type": "code",
      "execution_count": null,
      "metadata": {},
      "outputs": [],
      "source": [
        "# iterate through models and evaluate each\n",
        "for name, model in all_models.items():\n",
        "    model.fit(x_train, y_train)\n",
        "    y_pred = model.predict(x_test)\n",
        "    print(f\"\\n{name} Evaluation Report:\")\n",
        "    print(classification_report(y_test, y_pred))\n",
        "    print(\"Confusion Matrix:\\n\", confusion_matrix(y_test, y_pred))\n",
        "    plot_roc_curve(model, x_test, y_test)"
      ]
    }
  ],
  "metadata": {
    "colab": {
      "provenance": []
    },
    "kernelspec": {
      "display_name": "Python 3",
      "name": "python3"
    },
    "language_info": {
      "codemirror_mode": {
        "name": "ipython",
        "version": 3
      },
      "file_extension": ".py",
      "mimetype": "text/x-python",
      "name": "python",
      "nbconvert_exporter": "python",
      "pygments_lexer": "ipython3",
      "version": "3.9.13"
    }
  },
  "nbformat": 4,
  "nbformat_minor": 0
}
